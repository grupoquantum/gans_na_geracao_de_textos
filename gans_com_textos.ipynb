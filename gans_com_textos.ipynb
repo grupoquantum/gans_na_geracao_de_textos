{
 "cells": [
  {
   "cell_type": "markdown",
   "metadata": {},
   "source": [
    "<h3>GANs na Geração de Textos (Gerando Poemas com Base na Literatura Brasileira)</h3>"
   ]
  },
  {
   "cell_type": "markdown",
   "metadata": {},
   "source": [
    "<h4>Treinamento</h4>"
   ]
  },
  {
   "cell_type": "code",
   "execution_count": 21,
   "metadata": {},
   "outputs": [
    {
     "name": "stdout",
     "output_type": "stream",
     "text": [
      "[treinando o modelo, aguarde...]\n",
      "[...modelo treinado com sucesso]\n"
     ]
    }
   ],
   "source": [
    "from Neuraline.ArtificialIntelligence.DeepLearning.generative_adversarial_networks import GenerativeAdversarialNetworks\n",
    "from Neuraline.Utilities.data import ConvertData\n",
    "generative_adversarial_networks, convert_data = GenerativeAdversarialNetworks(), ConvertData()\n",
    "\n",
    "print('[treinando o modelo, aguarde...]')\n",
    "result = generative_adversarial_networks.addFit(url_path='./poemas')\n",
    "if result: print('[...modelo treinado com sucesso]')\n",
    "else: print('[erro no treinamento do modelo.]')"
   ]
  },
  {
   "cell_type": "markdown",
   "metadata": {},
   "source": [
    "<h4>Predição</h4>"
   ]
  },
  {
   "cell_type": "code",
   "execution_count": 43,
   "metadata": {},
   "outputs": [
    {
     "name": "stdout",
     "output_type": "stream",
     "text": [
      "Céu deserto.\n",
      "\n",
      "vem, anjo, minha donzela,\n",
      "minha’alma, meu pensamento.\n",
      "\n",
      "vem, anjo, minha donzela,\n",
      "minha’alma, meu coração!\n",
      "sofrer e dormir!\n",
      "\n",
      "vem, anjo, minha donzela,\n",
      "minha’alma, meu coração!\n",
      "sofrer e formigas.\n",
      "que tais não encontro por cá;\n",
      "em cismar — sozinho, à noite —\n",
      "mais prazer encontro lá;\n",
      "sem que noite ao formidável\n",
      "enterro tua quimera.\n",
      "somente a ingratidão - esta pantera -\n",
      "foi tua cheirosa trança\n",
      "quero vivê-lo em face do tormento\n",
      "de só por ele me acabarei. minha terra miserável,\n",
      "mora entre os primores\n",
      "que noite, que afaga é doce a viração!\n",
      "e de amor! minha terra miserável,\n",
      "mora entre feras, sente inevitável\n",
      "necessidade\n"
     ]
    }
   ],
   "source": [
    "result = generative_adversarial_networks.predict(precision=1)\n",
    "if result: print(convert_data.readTEXT('./predicted.txt'))\n",
    "else: print('[erro na geração do texto.]')"
   ]
  }
 ],
 "metadata": {
  "kernelspec": {
   "display_name": "Python 3.10.4 64-bit",
   "language": "python",
   "name": "python3"
  },
  "language_info": {
   "codemirror_mode": {
    "name": "ipython",
    "version": 3
   },
   "file_extension": ".py",
   "mimetype": "text/x-python",
   "name": "python",
   "nbconvert_exporter": "python",
   "pygments_lexer": "ipython3",
   "version": "3.10.4"
  },
  "orig_nbformat": 4,
  "vscode": {
   "interpreter": {
    "hash": "916dbcbb3f70747c44a77c7bcd40155683ae19c65e1c03b4aa3499c5328201f1"
   }
  }
 },
 "nbformat": 4,
 "nbformat_minor": 2
}
